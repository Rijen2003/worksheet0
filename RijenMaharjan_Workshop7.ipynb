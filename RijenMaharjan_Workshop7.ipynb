{
  "cells": [
    {
      "cell_type": "code",
      "execution_count": 6,
      "id": "46c9ba6e-fb9e-41f7-b50a-3cac376686b9",
      "metadata": {
        "id": "46c9ba6e-fb9e-41f7-b50a-3cac376686b9"
      },
      "outputs": [],
      "source": [
        "import pandas as pd\n",
        "import numpy as np\n",
        "from sklearn.model_selection import train_test_split\n",
        "from sklearn.linear_model import LinearRegression\n",
        "from sklearn.metrics import mean_squared_error, r2_score\n",
        "from sklearn.preprocessing import StandardScaler\n"
      ]
    },
    {
      "cell_type": "code",
      "source": [
        "from google.colab import drive\n",
        "drive.mount('/content/drive')"
      ],
      "metadata": {
        "colab": {
          "base_uri": "https://localhost:8080/"
        },
        "id": "a-VevY3GiWnn",
        "outputId": "dd68cdb0-fa55-4a7e-b6ea-20c6f918367b"
      },
      "id": "a-VevY3GiWnn",
      "execution_count": 7,
      "outputs": [
        {
          "output_type": "stream",
          "name": "stdout",
          "text": [
            "Drive already mounted at /content/drive; to attempt to forcibly remount, call drive.mount(\"/content/drive\", force_remount=True).\n"
          ]
        }
      ]
    },
    {
      "cell_type": "code",
      "execution_count": 8,
      "id": "da14f078-7e1a-4417-9e88-4351738d5c81",
      "metadata": {
        "colab": {
          "base_uri": "https://localhost:8080/"
        },
        "id": "da14f078-7e1a-4417-9e88-4351738d5c81",
        "outputId": "6b781576-df8b-4e66-80b1-37cd14df36f3"
      },
      "outputs": [
        {
          "output_type": "stream",
          "name": "stdout",
          "text": [
            "   Pregnancies  Glucose  BloodPressure  SkinThickness  Insulin   BMI  \\\n",
            "0            6      148             72             35        0  33.6   \n",
            "1            1       85             66             29        0  26.6   \n",
            "2            8      183             64              0        0  23.3   \n",
            "3            1       89             66             23       94  28.1   \n",
            "4            0      137             40             35      168  43.1   \n",
            "\n",
            "   DiabetesPedigreeFunction  Age  Outcome  \n",
            "0                     0.627   50        1  \n",
            "1                     0.351   31        0  \n",
            "2                     0.672   32        1  \n",
            "3                     0.167   21        0  \n",
            "4                     2.288   33        1  \n",
            "Mean Squared Error: 402.8523890426407\n",
            "R-squared: 0.19403775986668148\n"
          ]
        }
      ],
      "source": [
        "data = pd.read_csv('/content/drive/MyDrive/Data (1)/diabetes.csv')\n",
        "\n",
        "print(data.head())\n",
        "from sklearn.model_selection import train_test_split\n",
        "from sklearn.linear_model import LinearRegression\n",
        "from sklearn.metrics import mean_squared_error, r2_score\n",
        "from sklearn.preprocessing import StandardScaler\n",
        "\n",
        "# Step 2: Handle missing values (fill with median)\n",
        "data.fillna(data.median(), inplace=True)\n",
        "\n",
        "# Step 3: Define features (X) and target variable (y)\n",
        "X = data.drop('BloodPressure', axis=1)  # Features\n",
        "y = data['BloodPressure']  # Target variable\n",
        "\n",
        "# Step 4: Split the data into training and testing sets\n",
        "X_train, X_test, y_train, y_test = train_test_split(X, y, test_size=0.2, random_state=42)\n",
        "\n",
        "# Step 5: Standardize the features (optional but recommended)\n",
        "scaler = StandardScaler()\n",
        "X_train = scaler.fit_transform(X_train)\n",
        "X_test = scaler.transform(X_test)\n",
        "\n",
        "# Step 6: Initialize and train the Linear Regression model\n",
        "model = LinearRegression()\n",
        "model.fit(X_train, y_train)\n",
        "\n",
        "# Step 7: Make predictions on the test set\n",
        "y_pred = model.predict(X_test)\n",
        "\n",
        "# Step 8: Evaluate the model\n",
        "mse = mean_squared_error(y_test, y_pred)\n",
        "r2 = r2_score(y_test, y_pred)\n",
        "\n",
        "# Display the results\n",
        "print(f'Mean Squared Error: {mse}')\n",
        "\n",
        "print(f'R-squared: {r2}')\n"
      ]
    },
    {
      "cell_type": "code",
      "execution_count": 9,
      "id": "b8daf56d-beeb-48ad-a12a-3b4ae09470d1",
      "metadata": {
        "colab": {
          "base_uri": "https://localhost:8080/"
        },
        "id": "b8daf56d-beeb-48ad-a12a-3b4ae09470d1",
        "outputId": "e846615a-d7a9-45fa-e25a-a10370e9787a"
      },
      "outputs": [
        {
          "output_type": "stream",
          "name": "stdout",
          "text": [
            "Logistic Regression Results:\n",
            "Accuracy: 0.7532467532467533\n",
            "Confusion Matrix:\n",
            " [[79 20]\n",
            " [18 37]]\n",
            "Classification Report:\n",
            "               precision    recall  f1-score   support\n",
            "\n",
            "           0       0.81      0.80      0.81        99\n",
            "           1       0.65      0.67      0.66        55\n",
            "\n",
            "    accuracy                           0.75       154\n",
            "   macro avg       0.73      0.74      0.73       154\n",
            "weighted avg       0.76      0.75      0.75       154\n",
            "\n",
            "\n",
            "K-Nearest Neighbors Results:\n",
            "Accuracy: 0.6948051948051948\n",
            "Confusion Matrix:\n",
            " [[79 20]\n",
            " [27 28]]\n",
            "Classification Report:\n",
            "               precision    recall  f1-score   support\n",
            "\n",
            "           0       0.75      0.80      0.77        99\n",
            "           1       0.58      0.51      0.54        55\n",
            "\n",
            "    accuracy                           0.69       154\n",
            "   macro avg       0.66      0.65      0.66       154\n",
            "weighted avg       0.69      0.69      0.69       154\n",
            "\n"
          ]
        }
      ],
      "source": [
        "\n",
        "from sklearn.model_selection import train_test_split\n",
        "from sklearn.linear_model import LogisticRegression\n",
        "from sklearn.neighbors import KNeighborsClassifier\n",
        "from sklearn.metrics import accuracy_score, confusion_matrix, classification_report\n",
        "from sklearn.preprocessing import StandardScaler\n",
        "\n",
        "\n",
        "\n",
        "# Step 3: Define features (X) and target variable (y)\n",
        "X = data.drop('Outcome', axis=1)  # Features\n",
        "y = data['Outcome']  # Target variable\n",
        "\n",
        "# Step 4: Split the data into training and testing sets\n",
        "X_train, X_test, y_train, y_test = train_test_split(X, y, test_size=0.2, random_state=42)\n",
        "\n",
        "# Step 5: Standardize the features (optional but recommended)\n",
        "scaler = StandardScaler()\n",
        "X_train = scaler.fit_transform(X_train)\n",
        "X_test = scaler.transform(X_test)\n",
        "\n",
        "# Logistic Regression Model\n",
        "log_reg_model = LogisticRegression(max_iter=1000)\n",
        "log_reg_model.fit(X_train, y_train)\n",
        "y_pred_log_reg = log_reg_model.predict(X_test)\n",
        "\n",
        "# K-Nearest Neighbors Model\n",
        "knn_model = KNeighborsClassifier(n_neighbors=5)\n",
        "knn_model.fit(X_train, y_train)\n",
        "y_pred_knn = knn_model.predict(X_test)\n",
        "\n",
        "# Step 6: Evaluate Logistic Regression\n",
        "print(\"Logistic Regression Results:\")\n",
        "print(f'Accuracy: {accuracy_score(y_test, y_pred_log_reg)}')\n",
        "print(\"Confusion Matrix:\\n\", confusion_matrix(y_test, y_pred_log_reg))\n",
        "print(\"Classification Report:\\n\", classification_report(y_test, y_pred_log_reg))\n",
        "\n",
        "# Step 7: Evaluate K-Nearest Neighbors\n",
        "print(\"\\nK-Nearest Neighbors Results:\")\n",
        "print(f'Accuracy: {accuracy_score(y_test, y_pred_knn)}')\n",
        "print(\"Confusion Matrix:\\n\", confusion_matrix(y_test, y_pred_knn))\n",
        "print(\"Classification Report:\\n\", classification_report(y_test, y_pred_knn))\n"
      ]
    },
    {
      "cell_type": "code",
      "execution_count": 10,
      "id": "ce8232ec-2e34-43aa-b531-1aa2f8301961",
      "metadata": {
        "colab": {
          "base_uri": "https://localhost:8080/",
          "height": 1000
        },
        "id": "ce8232ec-2e34-43aa-b531-1aa2f8301961",
        "outputId": "ac79dd76-a9bf-484d-d98d-7239c821b4f5"
      },
      "outputs": [
        {
          "output_type": "stream",
          "name": "stdout",
          "text": [
            "Logistic Regression Results:\n",
            "Accuracy: 0.7532467532467533\n",
            "Confusion Matrix:\n",
            " [[79 20]\n",
            " [18 37]]\n",
            "Classification Report:\n",
            "               precision    recall  f1-score   support\n",
            "\n",
            "           0       0.81      0.80      0.81        99\n",
            "           1       0.65      0.67      0.66        55\n",
            "\n",
            "    accuracy                           0.75       154\n",
            "   macro avg       0.73      0.74      0.73       154\n",
            "weighted avg       0.76      0.75      0.75       154\n",
            "\n",
            "\n",
            "K-Nearest Neighbors Results:\n",
            "Accuracy: 0.6948051948051948\n",
            "Confusion Matrix:\n",
            " [[79 20]\n",
            " [27 28]]\n",
            "Classification Report:\n",
            "               precision    recall  f1-score   support\n",
            "\n",
            "           0       0.75      0.80      0.77        99\n",
            "           1       0.58      0.51      0.54        55\n",
            "\n",
            "    accuracy                           0.69       154\n",
            "   macro avg       0.66      0.65      0.66       154\n",
            "weighted avg       0.69      0.69      0.69       154\n",
            "\n"
          ]
        },
        {
          "output_type": "display_data",
          "data": {
            "text/plain": [
              "<Figure size 1000x600 with 1 Axes>"
            ],
            "image/png": "[encoded data removed]"
          },
          "metadata": {}
        },
        {
          "output_type": "stream",
          "name": "stdout",
          "text": [
            "Logistic Regression AUC: 0.81\n",
            "K-Nearest Neighbors AUC: 0.76\n"
          ]
        }
      ],
      "source": [
        "\n",
        "from sklearn.model_selection import train_test_split\n",
        "from sklearn.linear_model import LogisticRegression\n",
        "from sklearn.neighbors import KNeighborsClassifier\n",
        "from sklearn.metrics import accuracy_score, confusion_matrix, classification_report, roc_auc_score, roc_curve\n",
        "from sklearn.preprocessing import StandardScaler\n",
        "import matplotlib.pyplot as plt\n",
        "\n",
        "\n",
        "# Step 3: Define features (X) and target variable (y)\n",
        "X = data.drop('Outcome', axis=1)  # Features\n",
        "y = data['Outcome']  # Target variable\n",
        "\n",
        "# Step 4: Split the data into training and testing sets\n",
        "X_train, X_test, y_train, y_test = train_test_split(X, y, test_size=0.2, random_state=42)\n",
        "\n",
        "# Step 5: Standardize the features (optional but recommended)\n",
        "scaler = StandardScaler()\n",
        "X_train = scaler.fit_transform(X_train)\n",
        "X_test = scaler.transform(X_test)\n",
        "\n",
        "# Logistic Regression Model\n",
        "log_reg_model = LogisticRegression(max_iter=1000)\n",
        "log_reg_model.fit(X_train, y_train)\n",
        "y_pred_log_reg = log_reg_model.predict(X_test)\n",
        "\n",
        "# K-Nearest Neighbors Model\n",
        "knn_model = KNeighborsClassifier(n_neighbors=5)\n",
        "knn_model.fit(X_train, y_train)\n",
        "y_pred_knn = knn_model.predict(X_test)\n",
        "\n",
        "# Step 6: Evaluate Logistic Regression\n",
        "print(\"Logistic Regression Results:\")\n",
        "print(f'Accuracy: {accuracy_score(y_test, y_pred_log_reg)}')\n",
        "print(\"Confusion Matrix:\\n\", confusion_matrix(y_test, y_pred_log_reg))\n",
        "print(\"Classification Report:\\n\", classification_report(y_test, y_pred_log_reg))\n",
        "\n",
        "# Step 7: Evaluate K-Nearest Neighbors\n",
        "print(\"\\nK-Nearest Neighbors Results:\")\n",
        "print(f'Accuracy: {accuracy_score(y_test, y_pred_knn)}')\n",
        "print(\"Confusion Matrix:\\n\", confusion_matrix(y_test, y_pred_knn))\n",
        "print(\"Classification Report:\\n\", classification_report(y_test, y_pred_knn))\n",
        "\n",
        "# Step 8: Evaluate ROC Curve and AUC (Area Under the Curve) for both models\n",
        "# Logistic Regression ROC and AUC\n",
        "y_pred_log_reg_prob = log_reg_model.predict_proba(X_test)[:, 1]  # Get probabilities for the positive class\n",
        "roc_auc_log_reg = roc_auc_score(y_test, y_pred_log_reg_prob)\n",
        "\n",
        "# KNN ROC and AUC\n",
        "y_pred_knn_prob = knn_model.predict_proba(X_test)[:, 1]\n",
        "roc_auc_knn = roc_auc_score(y_test, y_pred_knn_prob)\n",
        "\n",
        "# Plot ROC Curve\n",
        "fpr_log_reg, tpr_log_reg, _ = roc_curve(y_test, y_pred_log_reg_prob)\n",
        "fpr_knn, tpr_knn, _ = roc_curve(y_test, y_pred_knn_prob)\n",
        "\n",
        "plt.figure(figsize=(10, 6))\n",
        "plt.plot(fpr_log_reg, tpr_log_reg, color='blue', label=f'Logistic Regression (AUC = {roc_auc_log_reg:.2f})')\n",
        "plt.plot(fpr_knn, tpr_knn, color='green', label=f'KNN (AUC = {roc_auc_knn:.2f})')\n",
        "plt.plot([0, 1], [0, 1], color='gray', linestyle='--')  # Random classifier line\n",
        "plt.xlabel('False Positive Rate')\n",
        "plt.ylabel('True Positive Rate')\n",
        "plt.title('ROC Curve Comparison')\n",
        "plt.legend(loc='lower right')\n",
        "plt.show()\n",
        "\n",
        "# Display AUC for both models\n",
        "print(f'Logistic Regression AUC: {roc_auc_log_reg:.2f}')\n",
        "print(f'K-Nearest Neighbors AUC: {roc_auc_knn:.2f}')\n"
      ]
    },
    {
      "cell_type": "code",
      "execution_count": 10,
      "id": "4a948b0a-d61a-44a4-ba08-e2f94c324896",
      "metadata": {
        "id": "4a948b0a-d61a-44a4-ba08-e2f94c324896"
      },
      "outputs": [],
      "source": []
    }
  ],
  "metadata": {
    "kernelspec": {
      "display_name": "Python 3 (ipykernel)",
      "language": "python",
      "name": "python3"
    },
    "language_info": {
      "codemirror_mode": {
        "name": "ipython",
        "version": 3
      },
      "file_extension": ".py",
      "mimetype": "text/x-python",
      "name": "python",
      "nbconvert_exporter": "python",
      "pygments_lexer": "ipython3",
      "version": "3.13.0"
    },
    "colab": {
      "provenance": []
    }
  },
  "nbformat": 4,
  "nbformat_minor": 5
}